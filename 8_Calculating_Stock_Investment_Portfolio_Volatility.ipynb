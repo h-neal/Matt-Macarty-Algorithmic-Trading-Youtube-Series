{
  "nbformat": 4,
  "nbformat_minor": 0,
  "metadata": {
    "colab": {
      "provenance": [],
      "authorship_tag": "ABX9TyO1aahk6m+oKByMSaeo3o4d",
      "include_colab_link": true
    },
    "kernelspec": {
      "name": "python3",
      "display_name": "Python 3"
    },
    "language_info": {
      "name": "python"
    }
  },
  "cells": [
    {
      "cell_type": "markdown",
      "metadata": {
        "id": "view-in-github",
        "colab_type": "text"
      },
      "source": [
        "<a href=\"https://colab.research.google.com/github/h-neal/Matt-Macarty-Algorithmic-Trading-Youtube-Series/blob/main/8_Calculating_Stock_Investment_Portfolio_Volatility.ipynb\" target=\"_parent\"><img src=\"https://colab.research.google.com/assets/colab-badge.svg\" alt=\"Open In Colab\"/></a>"
      ]
    },
    {
      "cell_type": "markdown",
      "source": [
        "# **Calculation of Portfolio Volatility**"
      ],
      "metadata": {
        "id": "WXT-KqDJdGiU"
      }
    },
    {
      "cell_type": "markdown",
      "source": [
        "**1. Environment**"
      ],
      "metadata": {
        "id": "4TCXe3_NdMnp"
      }
    },
    {
      "cell_type": "code",
      "source": [
        "import datetime as dt\n",
        "import json\n",
        "import numpy as np\n",
        "import pandas as pd\n",
        "import requests"
      ],
      "metadata": {
        "id": "7Kp26feJdbyu"
      },
      "execution_count": 3,
      "outputs": []
    },
    {
      "cell_type": "code",
      "execution_count": 2,
      "metadata": {
        "colab": {
          "base_uri": "https://localhost:8080/"
        },
        "id": "qHla3wYTc8nK",
        "outputId": "484238c1-5da1-40d2-ea67-32c9ec13b6de"
      },
      "outputs": [
        {
          "output_type": "stream",
          "name": "stdout",
          "text": [
            "Requirement already satisfied: requests in /usr/local/lib/python3.11/dist-packages (2.32.3)\n",
            "Requirement already satisfied: charset-normalizer<4,>=2 in /usr/local/lib/python3.11/dist-packages (from requests) (3.4.2)\n",
            "Requirement already satisfied: idna<4,>=2.5 in /usr/local/lib/python3.11/dist-packages (from requests) (3.10)\n",
            "Requirement already satisfied: urllib3<3,>=1.21.1 in /usr/local/lib/python3.11/dist-packages (from requests) (2.4.0)\n",
            "Requirement already satisfied: certifi>=2017.4.17 in /usr/local/lib/python3.11/dist-packages (from requests) (2025.4.26)\n"
          ]
        }
      ],
      "source": [
        "%pip install requests"
      ]
    },
    {
      "cell_type": "markdown",
      "source": [
        "**2. Preliminaries**"
      ],
      "metadata": {
        "id": "8Aa156fOdoHU"
      }
    },
    {
      "cell_type": "markdown",
      "source": [
        "API used: https://eodhd.com"
      ],
      "metadata": {
        "id": "mshFJtv9dsBE"
      }
    },
    {
      "cell_type": "code",
      "source": [
        "[14.3] * 7"
      ],
      "metadata": {
        "colab": {
          "base_uri": "https://localhost:8080/"
        },
        "id": "RWlITIcGfR9g",
        "outputId": "604a13c4-4fb9-4a85-d99e-f90071f1cc67"
      },
      "execution_count": 4,
      "outputs": [
        {
          "output_type": "execute_result",
          "data": {
            "text/plain": [
              "[14.3, 14.3, 14.3, 14.3, 14.3, 14.3, 14.3]"
            ]
          },
          "metadata": {},
          "execution_count": 4
        }
      ]
    },
    {
      "cell_type": "code",
      "source": [
        "from google.colab import drive\n",
        "drive.mount('/content/drive')\n",
        "key = open('/content/drive/My Drive/Matt Macarty Algorithmic Trading Youtube Series/eodhd_token.txt').read()\n",
        "start = dt.date.today() - dt.timedelta(365)\n",
        "symbols = \"SPY GLD AMZN GOOG KPTI GILD MFC\".split()\n",
        "weights = np.array([14.3, 14.3, 14.3, 14.3, 14.3, 14.3, 14.3]) / 100\n",
        "data = []"
      ],
      "metadata": {
        "colab": {
          "base_uri": "https://localhost:8080/"
        },
        "id": "iugeO7ksdmUW",
        "outputId": "3f59c231-8c5c-4ac3-b633-e7ee552ad09c"
      },
      "execution_count": 7,
      "outputs": [
        {
          "output_type": "stream",
          "name": "stdout",
          "text": [
            "Drive already mounted at /content/drive; to attempt to forcibly remount, call drive.mount(\"/content/drive\", force_remount=True).\n"
          ]
        }
      ]
    },
    {
      "cell_type": "markdown",
      "source": [
        "**3. Download and prepare data**"
      ],
      "metadata": {
        "id": "G3bfYsXqd4jH"
      }
    },
    {
      "cell_type": "code",
      "source": [
        "for symbol in symbols:\n",
        "  request = f\"https://eodhd.com/api/eod/{symbol}.US?api_token={key}&from={start}&fmt=json\"\n",
        "  raw = requests.get(request).text\n",
        "  raw = pd.DataFrame(json.loads(raw))\n",
        "  data.append(raw['close'])\n",
        "data = pd.DataFrame(data).T\n",
        "data.columns = symbols\n",
        "data.index = raw['date']\n",
        "data.head()"
      ],
      "metadata": {
        "colab": {
          "base_uri": "https://localhost:8080/",
          "height": 237
        },
        "id": "JapaIhfbd7yC",
        "outputId": "06f9a77e-06a4-438a-f093-e75f97250fba"
      },
      "execution_count": 10,
      "outputs": [
        {
          "output_type": "execute_result",
          "data": {
            "text/plain": [
              "               SPY     GLD    AMZN    GOOG   KPTI   GILD    MFC\n",
              "date                                                           \n",
              "2024-05-15  529.78  220.89  185.99  173.88  1.130  67.01  26.15\n",
              "2024-05-16  528.69  220.03  183.63  175.43  1.135  67.86  26.39\n",
              "2024-05-17  529.45  223.66  184.70  177.29  1.150  67.72  26.69\n",
              "2024-05-20  530.06  224.56  183.54  178.46  1.140  67.90  26.45\n",
              "2024-05-21  531.36  224.23  183.15  179.54  1.120  67.29  26.37"
            ],
            "text/html": [
              "\n",
              "  <div id=\"df-f68ce63b-dffd-4e49-b10a-890f825d7c66\" class=\"colab-df-container\">\n",
              "    <div>\n",
              "<style scoped>\n",
              "    .dataframe tbody tr th:only-of-type {\n",
              "        vertical-align: middle;\n",
              "    }\n",
              "\n",
              "    .dataframe tbody tr th {\n",
              "        vertical-align: top;\n",
              "    }\n",
              "\n",
              "    .dataframe thead th {\n",
              "        text-align: right;\n",
              "    }\n",
              "</style>\n",
              "<table border=\"1\" class=\"dataframe\">\n",
              "  <thead>\n",
              "    <tr style=\"text-align: right;\">\n",
              "      <th></th>\n",
              "      <th>SPY</th>\n",
              "      <th>GLD</th>\n",
              "      <th>AMZN</th>\n",
              "      <th>GOOG</th>\n",
              "      <th>KPTI</th>\n",
              "      <th>GILD</th>\n",
              "      <th>MFC</th>\n",
              "    </tr>\n",
              "    <tr>\n",
              "      <th>date</th>\n",
              "      <th></th>\n",
              "      <th></th>\n",
              "      <th></th>\n",
              "      <th></th>\n",
              "      <th></th>\n",
              "      <th></th>\n",
              "      <th></th>\n",
              "    </tr>\n",
              "  </thead>\n",
              "  <tbody>\n",
              "    <tr>\n",
              "      <th>2024-05-15</th>\n",
              "      <td>529.78</td>\n",
              "      <td>220.89</td>\n",
              "      <td>185.99</td>\n",
              "      <td>173.88</td>\n",
              "      <td>1.130</td>\n",
              "      <td>67.01</td>\n",
              "      <td>26.15</td>\n",
              "    </tr>\n",
              "    <tr>\n",
              "      <th>2024-05-16</th>\n",
              "      <td>528.69</td>\n",
              "      <td>220.03</td>\n",
              "      <td>183.63</td>\n",
              "      <td>175.43</td>\n",
              "      <td>1.135</td>\n",
              "      <td>67.86</td>\n",
              "      <td>26.39</td>\n",
              "    </tr>\n",
              "    <tr>\n",
              "      <th>2024-05-17</th>\n",
              "      <td>529.45</td>\n",
              "      <td>223.66</td>\n",
              "      <td>184.70</td>\n",
              "      <td>177.29</td>\n",
              "      <td>1.150</td>\n",
              "      <td>67.72</td>\n",
              "      <td>26.69</td>\n",
              "    </tr>\n",
              "    <tr>\n",
              "      <th>2024-05-20</th>\n",
              "      <td>530.06</td>\n",
              "      <td>224.56</td>\n",
              "      <td>183.54</td>\n",
              "      <td>178.46</td>\n",
              "      <td>1.140</td>\n",
              "      <td>67.90</td>\n",
              "      <td>26.45</td>\n",
              "    </tr>\n",
              "    <tr>\n",
              "      <th>2024-05-21</th>\n",
              "      <td>531.36</td>\n",
              "      <td>224.23</td>\n",
              "      <td>183.15</td>\n",
              "      <td>179.54</td>\n",
              "      <td>1.120</td>\n",
              "      <td>67.29</td>\n",
              "      <td>26.37</td>\n",
              "    </tr>\n",
              "  </tbody>\n",
              "</table>\n",
              "</div>\n",
              "    <div class=\"colab-df-buttons\">\n",
              "\n",
              "  <div class=\"colab-df-container\">\n",
              "    <button class=\"colab-df-convert\" onclick=\"convertToInteractive('df-f68ce63b-dffd-4e49-b10a-890f825d7c66')\"\n",
              "            title=\"Convert this dataframe to an interactive table.\"\n",
              "            style=\"display:none;\">\n",
              "\n",
              "  <svg xmlns=\"http://www.w3.org/2000/svg\" height=\"24px\" viewBox=\"0 -960 960 960\">\n",
              "    <path d=\"M120-120v-720h720v720H120Zm60-500h600v-160H180v160Zm220 220h160v-160H400v160Zm0 220h160v-160H400v160ZM180-400h160v-160H180v160Zm440 0h160v-160H620v160ZM180-180h160v-160H180v160Zm440 0h160v-160H620v160Z\"/>\n",
              "  </svg>\n",
              "    </button>\n",
              "\n",
              "  <style>\n",
              "    .colab-df-container {\n",
              "      display:flex;\n",
              "      gap: 12px;\n",
              "    }\n",
              "\n",
              "    .colab-df-convert {\n",
              "      background-color: #E8F0FE;\n",
              "      border: none;\n",
              "      border-radius: 50%;\n",
              "      cursor: pointer;\n",
              "      display: none;\n",
              "      fill: #1967D2;\n",
              "      height: 32px;\n",
              "      padding: 0 0 0 0;\n",
              "      width: 32px;\n",
              "    }\n",
              "\n",
              "    .colab-df-convert:hover {\n",
              "      background-color: #E2EBFA;\n",
              "      box-shadow: 0px 1px 2px rgba(60, 64, 67, 0.3), 0px 1px 3px 1px rgba(60, 64, 67, 0.15);\n",
              "      fill: #174EA6;\n",
              "    }\n",
              "\n",
              "    .colab-df-buttons div {\n",
              "      margin-bottom: 4px;\n",
              "    }\n",
              "\n",
              "    [theme=dark] .colab-df-convert {\n",
              "      background-color: #3B4455;\n",
              "      fill: #D2E3FC;\n",
              "    }\n",
              "\n",
              "    [theme=dark] .colab-df-convert:hover {\n",
              "      background-color: #434B5C;\n",
              "      box-shadow: 0px 1px 3px 1px rgba(0, 0, 0, 0.15);\n",
              "      filter: drop-shadow(0px 1px 2px rgba(0, 0, 0, 0.3));\n",
              "      fill: #FFFFFF;\n",
              "    }\n",
              "  </style>\n",
              "\n",
              "    <script>\n",
              "      const buttonEl =\n",
              "        document.querySelector('#df-f68ce63b-dffd-4e49-b10a-890f825d7c66 button.colab-df-convert');\n",
              "      buttonEl.style.display =\n",
              "        google.colab.kernel.accessAllowed ? 'block' : 'none';\n",
              "\n",
              "      async function convertToInteractive(key) {\n",
              "        const element = document.querySelector('#df-f68ce63b-dffd-4e49-b10a-890f825d7c66');\n",
              "        const dataTable =\n",
              "          await google.colab.kernel.invokeFunction('convertToInteractive',\n",
              "                                                    [key], {});\n",
              "        if (!dataTable) return;\n",
              "\n",
              "        const docLinkHtml = 'Like what you see? Visit the ' +\n",
              "          '<a target=\"_blank\" href=https://colab.research.google.com/notebooks/data_table.ipynb>data table notebook</a>'\n",
              "          + ' to learn more about interactive tables.';\n",
              "        element.innerHTML = '';\n",
              "        dataTable['output_type'] = 'display_data';\n",
              "        await google.colab.output.renderOutput(dataTable, element);\n",
              "        const docLink = document.createElement('div');\n",
              "        docLink.innerHTML = docLinkHtml;\n",
              "        element.appendChild(docLink);\n",
              "      }\n",
              "    </script>\n",
              "  </div>\n",
              "\n",
              "\n",
              "    <div id=\"df-520e3ab4-7e11-45dd-9fee-8d00ed4d37c8\">\n",
              "      <button class=\"colab-df-quickchart\" onclick=\"quickchart('df-520e3ab4-7e11-45dd-9fee-8d00ed4d37c8')\"\n",
              "                title=\"Suggest charts\"\n",
              "                style=\"display:none;\">\n",
              "\n",
              "<svg xmlns=\"http://www.w3.org/2000/svg\" height=\"24px\"viewBox=\"0 0 24 24\"\n",
              "     width=\"24px\">\n",
              "    <g>\n",
              "        <path d=\"M19 3H5c-1.1 0-2 .9-2 2v14c0 1.1.9 2 2 2h14c1.1 0 2-.9 2-2V5c0-1.1-.9-2-2-2zM9 17H7v-7h2v7zm4 0h-2V7h2v10zm4 0h-2v-4h2v4z\"/>\n",
              "    </g>\n",
              "</svg>\n",
              "      </button>\n",
              "\n",
              "<style>\n",
              "  .colab-df-quickchart {\n",
              "      --bg-color: #E8F0FE;\n",
              "      --fill-color: #1967D2;\n",
              "      --hover-bg-color: #E2EBFA;\n",
              "      --hover-fill-color: #174EA6;\n",
              "      --disabled-fill-color: #AAA;\n",
              "      --disabled-bg-color: #DDD;\n",
              "  }\n",
              "\n",
              "  [theme=dark] .colab-df-quickchart {\n",
              "      --bg-color: #3B4455;\n",
              "      --fill-color: #D2E3FC;\n",
              "      --hover-bg-color: #434B5C;\n",
              "      --hover-fill-color: #FFFFFF;\n",
              "      --disabled-bg-color: #3B4455;\n",
              "      --disabled-fill-color: #666;\n",
              "  }\n",
              "\n",
              "  .colab-df-quickchart {\n",
              "    background-color: var(--bg-color);\n",
              "    border: none;\n",
              "    border-radius: 50%;\n",
              "    cursor: pointer;\n",
              "    display: none;\n",
              "    fill: var(--fill-color);\n",
              "    height: 32px;\n",
              "    padding: 0;\n",
              "    width: 32px;\n",
              "  }\n",
              "\n",
              "  .colab-df-quickchart:hover {\n",
              "    background-color: var(--hover-bg-color);\n",
              "    box-shadow: 0 1px 2px rgba(60, 64, 67, 0.3), 0 1px 3px 1px rgba(60, 64, 67, 0.15);\n",
              "    fill: var(--button-hover-fill-color);\n",
              "  }\n",
              "\n",
              "  .colab-df-quickchart-complete:disabled,\n",
              "  .colab-df-quickchart-complete:disabled:hover {\n",
              "    background-color: var(--disabled-bg-color);\n",
              "    fill: var(--disabled-fill-color);\n",
              "    box-shadow: none;\n",
              "  }\n",
              "\n",
              "  .colab-df-spinner {\n",
              "    border: 2px solid var(--fill-color);\n",
              "    border-color: transparent;\n",
              "    border-bottom-color: var(--fill-color);\n",
              "    animation:\n",
              "      spin 1s steps(1) infinite;\n",
              "  }\n",
              "\n",
              "  @keyframes spin {\n",
              "    0% {\n",
              "      border-color: transparent;\n",
              "      border-bottom-color: var(--fill-color);\n",
              "      border-left-color: var(--fill-color);\n",
              "    }\n",
              "    20% {\n",
              "      border-color: transparent;\n",
              "      border-left-color: var(--fill-color);\n",
              "      border-top-color: var(--fill-color);\n",
              "    }\n",
              "    30% {\n",
              "      border-color: transparent;\n",
              "      border-left-color: var(--fill-color);\n",
              "      border-top-color: var(--fill-color);\n",
              "      border-right-color: var(--fill-color);\n",
              "    }\n",
              "    40% {\n",
              "      border-color: transparent;\n",
              "      border-right-color: var(--fill-color);\n",
              "      border-top-color: var(--fill-color);\n",
              "    }\n",
              "    60% {\n",
              "      border-color: transparent;\n",
              "      border-right-color: var(--fill-color);\n",
              "    }\n",
              "    80% {\n",
              "      border-color: transparent;\n",
              "      border-right-color: var(--fill-color);\n",
              "      border-bottom-color: var(--fill-color);\n",
              "    }\n",
              "    90% {\n",
              "      border-color: transparent;\n",
              "      border-bottom-color: var(--fill-color);\n",
              "    }\n",
              "  }\n",
              "</style>\n",
              "\n",
              "      <script>\n",
              "        async function quickchart(key) {\n",
              "          const quickchartButtonEl =\n",
              "            document.querySelector('#' + key + ' button');\n",
              "          quickchartButtonEl.disabled = true;  // To prevent multiple clicks.\n",
              "          quickchartButtonEl.classList.add('colab-df-spinner');\n",
              "          try {\n",
              "            const charts = await google.colab.kernel.invokeFunction(\n",
              "                'suggestCharts', [key], {});\n",
              "          } catch (error) {\n",
              "            console.error('Error during call to suggestCharts:', error);\n",
              "          }\n",
              "          quickchartButtonEl.classList.remove('colab-df-spinner');\n",
              "          quickchartButtonEl.classList.add('colab-df-quickchart-complete');\n",
              "        }\n",
              "        (() => {\n",
              "          let quickchartButtonEl =\n",
              "            document.querySelector('#df-520e3ab4-7e11-45dd-9fee-8d00ed4d37c8 button');\n",
              "          quickchartButtonEl.style.display =\n",
              "            google.colab.kernel.accessAllowed ? 'block' : 'none';\n",
              "        })();\n",
              "      </script>\n",
              "    </div>\n",
              "\n",
              "    </div>\n",
              "  </div>\n"
            ],
            "application/vnd.google.colaboratory.intrinsic+json": {
              "type": "dataframe",
              "variable_name": "data",
              "summary": "{\n  \"name\": \"data\",\n  \"rows\": 250,\n  \"fields\": [\n    {\n      \"column\": \"date\",\n      \"properties\": {\n        \"dtype\": \"object\",\n        \"num_unique_values\": 250,\n        \"samples\": [\n          \"2024-12-06\",\n          \"2024-05-23\",\n          \"2024-10-03\"\n        ],\n        \"semantic_type\": \"\",\n        \"description\": \"\"\n      }\n    },\n    {\n      \"column\": \"SPY\",\n      \"properties\": {\n        \"dtype\": \"number\",\n        \"std\": 26.116782368652654,\n        \"min\": 496.48,\n        \"max\": 612.93,\n        \"num_unique_values\": 250,\n        \"samples\": [\n          607.81,\n          525.96,\n          567.82\n        ],\n        \"semantic_type\": \"\",\n        \"description\": \"\"\n      }\n    },\n    {\n      \"column\": \"GLD\",\n      \"properties\": {\n        \"dtype\": \"number\",\n        \"std\": 25.951691906525962,\n        \"min\": 211.6,\n        \"max\": 315.59,\n        \"num_unique_values\": 245,\n        \"samples\": [\n          218.16,\n          215.72,\n          240.63\n        ],\n        \"semantic_type\": \"\",\n        \"description\": \"\"\n      }\n    },\n    {\n      \"column\": \"AMZN\",\n      \"properties\": {\n        \"dtype\": \"number\",\n        \"std\": 19.199241062853453,\n        \"min\": 161.02,\n        \"max\": 242.06,\n        \"num_unique_values\": 244,\n        \"samples\": [\n          186.1,\n          181.05,\n          223.75\n        ],\n        \"semantic_type\": \"\",\n        \"description\": \"\"\n      }\n    },\n    {\n      \"column\": \"GOOG\",\n      \"properties\": {\n        \"dtype\": \"number\",\n        \"std\": 13.201245573702076,\n        \"min\": 146.58,\n        \"max\": 207.71,\n        \"num_unique_values\": 243,\n        \"samples\": [\n          177.71,\n          175.06,\n          195.99\n        ],\n        \"semantic_type\": \"\",\n        \"description\": \"\"\n      }\n    },\n    {\n      \"column\": \"KPTI\",\n      \"properties\": {\n        \"dtype\": \"number\",\n        \"std\": 2.163718406850005,\n        \"min\": 0.5709,\n        \"max\": 9.83,\n        \"num_unique_values\": 234,\n        \"samples\": [\n          0.7602,\n          4.16,\n          0.63\n        ],\n        \"semantic_type\": \"\",\n        \"description\": \"\"\n      }\n    },\n    {\n      \"column\": \"GILD\",\n      \"properties\": {\n        \"dtype\": \"number\",\n        \"std\": 14.681103359386716,\n        \"min\": 63.15,\n        \"max\": 117.41,\n        \"num_unique_values\": 243,\n        \"samples\": [\n          70.67,\n          66.17,\n          94.11\n        ],\n        \"semantic_type\": \"\",\n        \"description\": \"\"\n      }\n    },\n    {\n      \"column\": \"MFC\",\n      \"properties\": {\n        \"dtype\": \"number\",\n        \"std\": 2.220038801354174,\n        \"min\": 24.13,\n        \"max\": 32.87,\n        \"num_unique_values\": 213,\n        \"samples\": [\n          25.63,\n          28.99,\n          27.61\n        ],\n        \"semantic_type\": \"\",\n        \"description\": \"\"\n      }\n    }\n  ]\n}"
            }
          },
          "metadata": {},
          "execution_count": 10
        }
      ]
    },
    {
      "cell_type": "markdown",
      "source": [
        "**4. Calculate instantaneous returns**"
      ],
      "metadata": {
        "id": "xhHJha0FiNvA"
      }
    },
    {
      "cell_type": "code",
      "source": [
        "returns = np.log(data).diff()\n",
        "returns.dropna(inplace=True)\n",
        "obs_no = len(returns)\n",
        "std = np.sqrt(returns.var() * obs_no)\n",
        "print(f\"{std.mean():.2%}\")"
      ],
      "metadata": {
        "colab": {
          "base_uri": "https://localhost:8080/"
        },
        "id": "22XMvfAGh28j",
        "outputId": "2067e484-6635-4b09-d798-b7963b2817ea"
      },
      "execution_count": 18,
      "outputs": [
        {
          "output_type": "stream",
          "name": "stdout",
          "text": [
            "65.04%\n"
          ]
        }
      ]
    },
    {
      "cell_type": "markdown",
      "source": [
        "**5. Equally Weighted Portfolio Volatility**"
      ],
      "metadata": {
        "id": "uov8HdWwjK3h"
      }
    },
    {
      "cell_type": "code",
      "source": [
        "cov = returns.cov() * obs_no\n",
        "print(f\"{np.sqrt(np.dot(weights.T, np.dot(cov, weights))):.2%}\")"
      ],
      "metadata": {
        "colab": {
          "base_uri": "https://localhost:8080/"
        },
        "id": "hVzipUbqiXwT",
        "outputId": "2274b273-5baf-41e7-b8e1-dd5019cbfa59"
      },
      "execution_count": 20,
      "outputs": [
        {
          "output_type": "stream",
          "name": "stdout",
          "text": [
            "45.75%\n"
          ]
        }
      ]
    }
  ]
}